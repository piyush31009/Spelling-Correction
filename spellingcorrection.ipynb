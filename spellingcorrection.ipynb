{
 "cells": [
  {
   "cell_type": "code",
   "execution_count": 1,
   "id": "f6c3f42f",
   "metadata": {},
   "outputs": [
    {
     "name": "stdout",
     "output_type": "stream",
     "text": [
      "enter the word to be checked:=vrsfd\n",
      "original word:vrsfd\n",
      "Corrected word is: versed \n",
      "enter 0 or 1 where 0:'No more check' and 1:'need to check more' 0\n",
      "the spelling checking stops here\n"
     ]
    }
   ],
   "source": [
    "import sys\n",
    "from textblob import TextBlob\n",
    "t=1\n",
    "while t==1:\n",
    "    a=input(\"enter the word to be checked:=\") \n",
    "    b=TextBlob(a)\n",
    "    \n",
    "    if str(b.correct())!=a:\n",
    "        print(f\"original word:{str(a)}\")\n",
    "        print(f\"Corrected word is: {str(b.correct())} \")\n",
    "   \n",
    "    else:\n",
    "        print(f\"original  and corrected word : {str(a)}\")\n",
    "    \n",
    "    t=input(\"enter 0 or 1 where 0:'No more check' and 1:'need to check more' \")\n",
    "\n",
    "print(\"the spelling checking stops here\")"
   ]
  },
  {
   "cell_type": "code",
   "execution_count": 24,
   "id": "cb4b8418",
   "metadata": {},
   "outputs": [
    {
     "name": "stdout",
     "output_type": "stream",
     "text": [
      "enter the word to be checked:=is\n",
      "original  and corrected word : is\n",
      "enter 0 or 1 where 0:'No more check' and 1:'need to check more' 1\n",
      "enter the word to be checked:=ram\n",
      "original  and corrected word : ram\n",
      "enter 0 or 1 where 0:'No more check' and 1:'need to check more' 1\n",
      "enter the word to be checked:=hari\n",
      "original word:hari\n",
      "Corrected word is: hair \n",
      "enter 0 or 1 where 0:'No more check' and 1:'need to check more' 0\n",
      "the spelling checking stops here\n"
     ]
    }
   ],
   "source": [
    "import sys\n",
    "from textblob import TextBlob\n",
    "t='1'\n",
    "while t=='1':\n",
    "    a=input(\"enter the word to be checked:=\") \n",
    "    b=TextBlob(a)\n",
    "    \n",
    "    if str(b.correct())!=a:\n",
    "        print(f\"original word:{str(a)}\")\n",
    "        print(f\"Corrected word is: {str(b.correct())} \")\n",
    "   \n",
    "    else:\n",
    "        print(f\"original  and corrected word : {str(a)}\")\n",
    "    \n",
    "    t=input(\"enter 0 or 1 where 0:'No more check' and 1:'need to check more' \")\n",
    "\n",
    "print(\"the spelling checking stops here\")"
   ]
  },
  {
   "cell_type": "code",
   "execution_count": null,
   "id": "64ab486c",
   "metadata": {},
   "outputs": [
    {
     "ename": "",
     "evalue": "",
     "output_type": "error",
     "traceback": [
      "\u001b[1;31mRunning cells with 'd:\\python.exe' requires ipykernel package.\n",
      "\u001b[1;31mRun the following command to install 'ipykernel' into the Python environment. \n",
      "\u001b[1;31mCommand: 'd:/python.exe -m pip install ipykernel -U --user --force-reinstall'"
     ]
    }
   ],
   "source": [
    "from textblob import TextBlob\n",
    "\n",
    "def Convert(string):\n",
    "    li = list(string.split())\n",
    "    return li\n",
    "\n",
    "if __name__==\"__main__\":\n",
    "    \n",
    "    t='1'\n",
    "    while t=='1':\n",
    "        string1 = input(\"Please enter some misspelled texts: \")\n",
    "        words=Convert(string1)\n",
    "\n",
    "        corrected_words = []\n",
    "        for i in words:\n",
    "            corrected_words.append(TextBlob(i))\n",
    "\n",
    "        print(\"Words are:\", words)\n",
    "        print(\"Corrected Words are:\")\n",
    "\n",
    "        for i in corrected_words:\n",
    "            print(i.correct(), end=\" \")\n",
    "        \n",
    "        print(\"Enter 0 or 1 ; 0: no need to recheck and 1: need to check more? \")\n",
    "    print(\"the \")"
   ]
  }
 ],
 "metadata": {
  "kernelspec": {
   "display_name": "Python 3 (ipykernel)",
   "language": "python",
   "name": "python3"
  },
  "language_info": {
   "codemirror_mode": {
    "name": "ipython",
    "version": 3
   },
   "file_extension": ".py",
   "mimetype": "text/x-python",
   "name": "python",
   "nbconvert_exporter": "python",
   "pygments_lexer": "ipython3",
   "version": "3.10.6 (tags/v3.10.6:9c7b4bd, Aug  1 2022, 21:53:49) [MSC v.1932 64 bit (AMD64)]"
  },
  "vscode": {
   "interpreter": {
    "hash": "3440fa40ac2c39878b83ee7a6e81824601a62799733fc81e385c4ef9c8700d77"
   }
  }
 },
 "nbformat": 4,
 "nbformat_minor": 5
}
